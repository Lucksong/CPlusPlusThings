{
 "cells": [
  {
   "cell_type": "code",
   "execution_count": 3,
   "metadata": {},
   "outputs": [
    {
     "name": "stdout",
     "output_type": "stream",
     "text": [
      "sdfsd\n"
     ]
    }
   ],
   "source": [
    "#include<iostream>\n",
    "using namespace std;\n",
    "cout<<\"sdfsd\"<<endl;"
   ]
  },
  {
   "cell_type": "code",
   "execution_count": 10,
   "metadata": {},
   "outputs": [],
   "source": [
    "int fun(){\n",
    "    int i,j,k,f;\n",
    "    for (i=1;i<=4;i++){\n",
    "        for (j=1;j<=30;j++)\n",
    "            cout<<\" \";\n",
    "        for (k=1;k<=8-2*i;k++)\n",
    "            cout<<\" \";\n",
    "        for (f=1;f<=2*i;f++)\n",
    "            cout<<'*';\n",
    "        cout<<endl;\n",
    "    }\n",
    "    for(i=1;i<=3;i++){\n",
    "        for (j=1;j<=30;j++)\n",
    "            cout<<\" \";\n",
    "        for (f=1;f<=7-2*i;f++)\n",
    "            cout<<'*';\n",
    "        cout<<endl;\n",
    "    }\n",
    "    system(\"pause\");\n",
    "    return 0;\n",
    "}"
   ]
  },
  {
   "cell_type": "code",
   "execution_count": 11,
   "metadata": {},
   "outputs": [
    {
     "name": "stdout",
     "output_type": "stream",
     "text": [
      "                                    **\n",
      "                                  ****\n",
      "                                ******\n",
      "                              ********\n",
      "                              *****\n",
      "                              ***\n",
      "                              *\n"
     ]
    },
    {
     "data": {
      "text/plain": [
       "0"
      ]
     },
     "execution_count": 11,
     "metadata": {},
     "output_type": "execute_result"
    }
   ],
   "source": [
    "fun()"
   ]
  },
  {
   "cell_type": "code",
   "execution_count": 12,
   "metadata": {},
   "outputs": [],
   "source": [
    "int main(){\n",
    "    fun();\n",
    "    return 0;\n",
    "}"
   ]
  }
 ],
 "metadata": {
  "kernelspec": {
   "display_name": "C++14",
   "language": "C++14",
   "name": "xcpp14"
  },
  "language_info": {
   "codemirror_mode": "text/x-c++src",
   "file_extension": ".cpp",
   "mimetype": "text/x-c++src",
   "name": "c++",
   "version": "14"
  }
 },
 "nbformat": 4,
 "nbformat_minor": 4
}
